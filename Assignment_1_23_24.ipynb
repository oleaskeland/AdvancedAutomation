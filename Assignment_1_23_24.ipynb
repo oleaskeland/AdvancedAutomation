{
  "cells": [
    {
      "cell_type": "markdown",
      "metadata": {
        "id": "view-in-github",
        "colab_type": "text"
      },
      "source": [
        "<a href=\"https://colab.research.google.com/github/oleaskeland/AdvancedAutomation/blob/CA1/Assignment_1_23_24.ipynb\" target=\"_parent\"><img src=\"https://colab.research.google.com/assets/colab-badge.svg\" alt=\"Open In Colab\"/></a>"
      ]
    },
    {
      "cell_type": "markdown",
      "metadata": {
        "id": "JV5YbbVNlCLl"
      },
      "source": [
        "# Avanced Automation - Assignment 1\n",
        "\n",
        "To be delivered until 2023-12-10 23:59:59."
      ]
    },
    {
      "cell_type": "markdown",
      "metadata": {
        "id": "A746fsNRldR4"
      },
      "source": [
        "## Section 1 -- Linear Regression\n",
        "\n",
        "**1.** Consider a dataset with 100 observations, containing a single predictor and a quantitative response. Two different models are fitted to the data, a linear regression ($m_1: Y = \\beta_0 + \\beta_1 X + \\epsilon$) and a cubic regression ($m_2: Y = \\beta_0 + \\beta_1 X + \\beta_2 X^2 + \\beta_3 X^3 + \\epsilon$)."
      ]
    },
    {
      "cell_type": "markdown",
      "metadata": {
        "id": "gOuCfx3sm8hZ"
      },
      "source": [
        "**1.a)** Suppose that the actual relation between X and Y is linear. Can the **training** residual sum of squares (RSS) of the linear model be expected to be smaller, larger or equal to the one from the cubic model? Or is there no information to tell? Justify your answer."
      ]
    },
    {
      "cell_type": "markdown",
      "metadata": {
        "id": "h6V7QbAN6BIt"
      },
      "source": [
        "In this case the cubic model will overfit the training data picking up noise and capturing it with quadratic or cubic trends. Therefore it can actually fit the training data very well, but will not be able to generalize as well as the linear model. Conclusion: The RSS can be smaller for the cubic model."
      ]
    },
    {
      "cell_type": "markdown",
      "metadata": {
        "id": "f-Z6e3nem88s"
      },
      "source": [
        "**1.b)** Answer question 1.a) considering the test RSS rather than the training RSS."
      ]
    },
    {
      "cell_type": "markdown",
      "metadata": {
        "id": "8Ng5yyIL7sUE"
      },
      "source": [
        "The testing RSS for the linear model is expected to be smaller than the cubic model. This is becuase the actual relationship between X and Y is linear so the cubic model is too complex and will overfit the data by picking up noise."
      ]
    },
    {
      "cell_type": "markdown",
      "metadata": {
        "id": "gmhX35ckm9St"
      },
      "source": [
        "**1.c)** Suppose that the actual relationship between X and Y is not linear, but it is not known how far it is from being linear. What is it expected of the the **training** RSS for the linear compared with the cubic models? Or is there not enough information? Justify your answer."
      ]
    },
    {
      "cell_type": "markdown",
      "metadata": {
        "id": "l3JRaXd28SUz"
      },
      "source": []
    },
    {
      "cell_type": "markdown",
      "metadata": {
        "id": "68b9Gt-Sm9lp"
      },
      "source": [
        "**1.d)** Answer question 1.c) considering the test RSS rather than the training RSS."
      ]
    },
    {
      "cell_type": "markdown",
      "metadata": {
        "id": "FWjI9xe36tk2"
      },
      "source": []
    },
    {
      "cell_type": "markdown",
      "metadata": {
        "id": "qD9vE4uuyeNa"
      },
      "source": [
        "**2.** Consider now the Palmer Archipelago penguin data. It consists of physical measurements of male and female adult penguins from three species that live in three different islands of the Palmer Archipelago in Antarctica."
      ]
    },
    {
      "cell_type": "markdown",
      "metadata": {
        "id": "JlY6gihzHUm5"
      },
      "source": [
        "**2.a)** Load the dataset `penguins_size.csv`."
      ]
    },
    {
      "cell_type": "code",
      "execution_count": null,
      "metadata": {
        "colab": {
          "base_uri": "https://localhost:8080/",
          "height": 391
        },
        "id": "UJxs-3Vp9IhJ",
        "outputId": "56c55c3c-a9d3-4dfa-ccfa-01e43015df9d"
      },
      "outputs": [
        {
          "output_type": "error",
          "ename": "FileNotFoundError",
          "evalue": "ignored",
          "traceback": [
            "\u001b[0;31m---------------------------------------------------------------------------\u001b[0m",
            "\u001b[0;31mFileNotFoundError\u001b[0m                         Traceback (most recent call last)",
            "\u001b[0;32m<ipython-input-1-cbc291f6499e>\u001b[0m in \u001b[0;36m<cell line: 3>\u001b[0;34m()\u001b[0m\n\u001b[1;32m      1\u001b[0m \u001b[0;32mimport\u001b[0m \u001b[0mpandas\u001b[0m \u001b[0;32mas\u001b[0m \u001b[0mpd\u001b[0m\u001b[0;34m\u001b[0m\u001b[0;34m\u001b[0m\u001b[0m\n\u001b[1;32m      2\u001b[0m \u001b[0;34m\u001b[0m\u001b[0m\n\u001b[0;32m----> 3\u001b[0;31m \u001b[0mdf\u001b[0m \u001b[0;34m=\u001b[0m \u001b[0mpd\u001b[0m\u001b[0;34m.\u001b[0m\u001b[0mread_csv\u001b[0m\u001b[0;34m(\u001b[0m\u001b[0;34m'/content/sample_data/penguins_size.csv'\u001b[0m\u001b[0;34m)\u001b[0m\u001b[0;34m\u001b[0m\u001b[0;34m\u001b[0m\u001b[0m\n\u001b[0m\u001b[1;32m      4\u001b[0m \u001b[0;34m\u001b[0m\u001b[0m\n\u001b[1;32m      5\u001b[0m \u001b[0mprint\u001b[0m\u001b[0;34m(\u001b[0m\u001b[0mdf\u001b[0m\u001b[0;34m.\u001b[0m\u001b[0mto_string\u001b[0m\u001b[0;34m(\u001b[0m\u001b[0;34m)\u001b[0m\u001b[0;34m)\u001b[0m\u001b[0;34m\u001b[0m\u001b[0;34m\u001b[0m\u001b[0m\n",
            "\u001b[0;32m/usr/local/lib/python3.10/dist-packages/pandas/util/_decorators.py\u001b[0m in \u001b[0;36mwrapper\u001b[0;34m(*args, **kwargs)\u001b[0m\n\u001b[1;32m    209\u001b[0m                 \u001b[0;32melse\u001b[0m\u001b[0;34m:\u001b[0m\u001b[0;34m\u001b[0m\u001b[0;34m\u001b[0m\u001b[0m\n\u001b[1;32m    210\u001b[0m                     \u001b[0mkwargs\u001b[0m\u001b[0;34m[\u001b[0m\u001b[0mnew_arg_name\u001b[0m\u001b[0;34m]\u001b[0m \u001b[0;34m=\u001b[0m \u001b[0mnew_arg_value\u001b[0m\u001b[0;34m\u001b[0m\u001b[0;34m\u001b[0m\u001b[0m\n\u001b[0;32m--> 211\u001b[0;31m             \u001b[0;32mreturn\u001b[0m \u001b[0mfunc\u001b[0m\u001b[0;34m(\u001b[0m\u001b[0;34m*\u001b[0m\u001b[0margs\u001b[0m\u001b[0;34m,\u001b[0m \u001b[0;34m**\u001b[0m\u001b[0mkwargs\u001b[0m\u001b[0;34m)\u001b[0m\u001b[0;34m\u001b[0m\u001b[0;34m\u001b[0m\u001b[0m\n\u001b[0m\u001b[1;32m    212\u001b[0m \u001b[0;34m\u001b[0m\u001b[0m\n\u001b[1;32m    213\u001b[0m         \u001b[0;32mreturn\u001b[0m \u001b[0mcast\u001b[0m\u001b[0;34m(\u001b[0m\u001b[0mF\u001b[0m\u001b[0;34m,\u001b[0m \u001b[0mwrapper\u001b[0m\u001b[0;34m)\u001b[0m\u001b[0;34m\u001b[0m\u001b[0;34m\u001b[0m\u001b[0m\n",
            "\u001b[0;32m/usr/local/lib/python3.10/dist-packages/pandas/util/_decorators.py\u001b[0m in \u001b[0;36mwrapper\u001b[0;34m(*args, **kwargs)\u001b[0m\n\u001b[1;32m    329\u001b[0m                     \u001b[0mstacklevel\u001b[0m\u001b[0;34m=\u001b[0m\u001b[0mfind_stack_level\u001b[0m\u001b[0;34m(\u001b[0m\u001b[0;34m)\u001b[0m\u001b[0;34m,\u001b[0m\u001b[0;34m\u001b[0m\u001b[0;34m\u001b[0m\u001b[0m\n\u001b[1;32m    330\u001b[0m                 )\n\u001b[0;32m--> 331\u001b[0;31m             \u001b[0;32mreturn\u001b[0m \u001b[0mfunc\u001b[0m\u001b[0;34m(\u001b[0m\u001b[0;34m*\u001b[0m\u001b[0margs\u001b[0m\u001b[0;34m,\u001b[0m \u001b[0;34m**\u001b[0m\u001b[0mkwargs\u001b[0m\u001b[0;34m)\u001b[0m\u001b[0;34m\u001b[0m\u001b[0;34m\u001b[0m\u001b[0m\n\u001b[0m\u001b[1;32m    332\u001b[0m \u001b[0;34m\u001b[0m\u001b[0m\n\u001b[1;32m    333\u001b[0m         \u001b[0;31m# error: \"Callable[[VarArg(Any), KwArg(Any)], Any]\" has no\u001b[0m\u001b[0;34m\u001b[0m\u001b[0;34m\u001b[0m\u001b[0m\n",
            "\u001b[0;32m/usr/local/lib/python3.10/dist-packages/pandas/io/parsers/readers.py\u001b[0m in \u001b[0;36mread_csv\u001b[0;34m(filepath_or_buffer, sep, delimiter, header, names, index_col, usecols, squeeze, prefix, mangle_dupe_cols, dtype, engine, converters, true_values, false_values, skipinitialspace, skiprows, skipfooter, nrows, na_values, keep_default_na, na_filter, verbose, skip_blank_lines, parse_dates, infer_datetime_format, keep_date_col, date_parser, dayfirst, cache_dates, iterator, chunksize, compression, thousands, decimal, lineterminator, quotechar, quoting, doublequote, escapechar, comment, encoding, encoding_errors, dialect, error_bad_lines, warn_bad_lines, on_bad_lines, delim_whitespace, low_memory, memory_map, float_precision, storage_options)\u001b[0m\n\u001b[1;32m    948\u001b[0m     \u001b[0mkwds\u001b[0m\u001b[0;34m.\u001b[0m\u001b[0mupdate\u001b[0m\u001b[0;34m(\u001b[0m\u001b[0mkwds_defaults\u001b[0m\u001b[0;34m)\u001b[0m\u001b[0;34m\u001b[0m\u001b[0;34m\u001b[0m\u001b[0m\n\u001b[1;32m    949\u001b[0m \u001b[0;34m\u001b[0m\u001b[0m\n\u001b[0;32m--> 950\u001b[0;31m     \u001b[0;32mreturn\u001b[0m \u001b[0m_read\u001b[0m\u001b[0;34m(\u001b[0m\u001b[0mfilepath_or_buffer\u001b[0m\u001b[0;34m,\u001b[0m \u001b[0mkwds\u001b[0m\u001b[0;34m)\u001b[0m\u001b[0;34m\u001b[0m\u001b[0;34m\u001b[0m\u001b[0m\n\u001b[0m\u001b[1;32m    951\u001b[0m \u001b[0;34m\u001b[0m\u001b[0m\n\u001b[1;32m    952\u001b[0m \u001b[0;34m\u001b[0m\u001b[0m\n",
            "\u001b[0;32m/usr/local/lib/python3.10/dist-packages/pandas/io/parsers/readers.py\u001b[0m in \u001b[0;36m_read\u001b[0;34m(filepath_or_buffer, kwds)\u001b[0m\n\u001b[1;32m    603\u001b[0m \u001b[0;34m\u001b[0m\u001b[0m\n\u001b[1;32m    604\u001b[0m     \u001b[0;31m# Create the parser.\u001b[0m\u001b[0;34m\u001b[0m\u001b[0;34m\u001b[0m\u001b[0m\n\u001b[0;32m--> 605\u001b[0;31m     \u001b[0mparser\u001b[0m \u001b[0;34m=\u001b[0m \u001b[0mTextFileReader\u001b[0m\u001b[0;34m(\u001b[0m\u001b[0mfilepath_or_buffer\u001b[0m\u001b[0;34m,\u001b[0m \u001b[0;34m**\u001b[0m\u001b[0mkwds\u001b[0m\u001b[0;34m)\u001b[0m\u001b[0;34m\u001b[0m\u001b[0;34m\u001b[0m\u001b[0m\n\u001b[0m\u001b[1;32m    606\u001b[0m \u001b[0;34m\u001b[0m\u001b[0m\n\u001b[1;32m    607\u001b[0m     \u001b[0;32mif\u001b[0m \u001b[0mchunksize\u001b[0m \u001b[0;32mor\u001b[0m \u001b[0miterator\u001b[0m\u001b[0;34m:\u001b[0m\u001b[0;34m\u001b[0m\u001b[0;34m\u001b[0m\u001b[0m\n",
            "\u001b[0;32m/usr/local/lib/python3.10/dist-packages/pandas/io/parsers/readers.py\u001b[0m in \u001b[0;36m__init__\u001b[0;34m(self, f, engine, **kwds)\u001b[0m\n\u001b[1;32m   1440\u001b[0m \u001b[0;34m\u001b[0m\u001b[0m\n\u001b[1;32m   1441\u001b[0m         \u001b[0mself\u001b[0m\u001b[0;34m.\u001b[0m\u001b[0mhandles\u001b[0m\u001b[0;34m:\u001b[0m \u001b[0mIOHandles\u001b[0m \u001b[0;34m|\u001b[0m \u001b[0;32mNone\u001b[0m \u001b[0;34m=\u001b[0m \u001b[0;32mNone\u001b[0m\u001b[0;34m\u001b[0m\u001b[0;34m\u001b[0m\u001b[0m\n\u001b[0;32m-> 1442\u001b[0;31m         \u001b[0mself\u001b[0m\u001b[0;34m.\u001b[0m\u001b[0m_engine\u001b[0m \u001b[0;34m=\u001b[0m \u001b[0mself\u001b[0m\u001b[0;34m.\u001b[0m\u001b[0m_make_engine\u001b[0m\u001b[0;34m(\u001b[0m\u001b[0mf\u001b[0m\u001b[0;34m,\u001b[0m \u001b[0mself\u001b[0m\u001b[0;34m.\u001b[0m\u001b[0mengine\u001b[0m\u001b[0;34m)\u001b[0m\u001b[0;34m\u001b[0m\u001b[0;34m\u001b[0m\u001b[0m\n\u001b[0m\u001b[1;32m   1443\u001b[0m \u001b[0;34m\u001b[0m\u001b[0m\n\u001b[1;32m   1444\u001b[0m     \u001b[0;32mdef\u001b[0m \u001b[0mclose\u001b[0m\u001b[0;34m(\u001b[0m\u001b[0mself\u001b[0m\u001b[0;34m)\u001b[0m \u001b[0;34m->\u001b[0m \u001b[0;32mNone\u001b[0m\u001b[0;34m:\u001b[0m\u001b[0;34m\u001b[0m\u001b[0;34m\u001b[0m\u001b[0m\n",
            "\u001b[0;32m/usr/local/lib/python3.10/dist-packages/pandas/io/parsers/readers.py\u001b[0m in \u001b[0;36m_make_engine\u001b[0;34m(self, f, engine)\u001b[0m\n\u001b[1;32m   1733\u001b[0m                 \u001b[0;32mif\u001b[0m \u001b[0;34m\"b\"\u001b[0m \u001b[0;32mnot\u001b[0m \u001b[0;32min\u001b[0m \u001b[0mmode\u001b[0m\u001b[0;34m:\u001b[0m\u001b[0;34m\u001b[0m\u001b[0;34m\u001b[0m\u001b[0m\n\u001b[1;32m   1734\u001b[0m                     \u001b[0mmode\u001b[0m \u001b[0;34m+=\u001b[0m \u001b[0;34m\"b\"\u001b[0m\u001b[0;34m\u001b[0m\u001b[0;34m\u001b[0m\u001b[0m\n\u001b[0;32m-> 1735\u001b[0;31m             self.handles = get_handle(\n\u001b[0m\u001b[1;32m   1736\u001b[0m                 \u001b[0mf\u001b[0m\u001b[0;34m,\u001b[0m\u001b[0;34m\u001b[0m\u001b[0;34m\u001b[0m\u001b[0m\n\u001b[1;32m   1737\u001b[0m                 \u001b[0mmode\u001b[0m\u001b[0;34m,\u001b[0m\u001b[0;34m\u001b[0m\u001b[0;34m\u001b[0m\u001b[0m\n",
            "\u001b[0;32m/usr/local/lib/python3.10/dist-packages/pandas/io/common.py\u001b[0m in \u001b[0;36mget_handle\u001b[0;34m(path_or_buf, mode, encoding, compression, memory_map, is_text, errors, storage_options)\u001b[0m\n\u001b[1;32m    854\u001b[0m         \u001b[0;32mif\u001b[0m \u001b[0mioargs\u001b[0m\u001b[0;34m.\u001b[0m\u001b[0mencoding\u001b[0m \u001b[0;32mand\u001b[0m \u001b[0;34m\"b\"\u001b[0m \u001b[0;32mnot\u001b[0m \u001b[0;32min\u001b[0m \u001b[0mioargs\u001b[0m\u001b[0;34m.\u001b[0m\u001b[0mmode\u001b[0m\u001b[0;34m:\u001b[0m\u001b[0;34m\u001b[0m\u001b[0;34m\u001b[0m\u001b[0m\n\u001b[1;32m    855\u001b[0m             \u001b[0;31m# Encoding\u001b[0m\u001b[0;34m\u001b[0m\u001b[0;34m\u001b[0m\u001b[0m\n\u001b[0;32m--> 856\u001b[0;31m             handle = open(\n\u001b[0m\u001b[1;32m    857\u001b[0m                 \u001b[0mhandle\u001b[0m\u001b[0;34m,\u001b[0m\u001b[0;34m\u001b[0m\u001b[0;34m\u001b[0m\u001b[0m\n\u001b[1;32m    858\u001b[0m                 \u001b[0mioargs\u001b[0m\u001b[0;34m.\u001b[0m\u001b[0mmode\u001b[0m\u001b[0;34m,\u001b[0m\u001b[0;34m\u001b[0m\u001b[0;34m\u001b[0m\u001b[0m\n",
            "\u001b[0;31mFileNotFoundError\u001b[0m: [Errno 2] No such file or directory: '/content/sample_data/penguins_size.csv'"
          ]
        }
      ],
      "source": [
        "import pandas as pd\n",
        "\n",
        "df = pd.read_csv('/content/sample_data/penguins_size.csv')\n",
        "\n",
        "print(df.to_string())\n",
        "print(len(df))"
      ]
    },
    {
      "cell_type": "markdown",
      "metadata": {
        "id": "JsMtF2qhyeNb"
      },
      "source": [
        "**2.b)** Discard any row that has a missing value."
      ]
    },
    {
      "cell_type": "code",
      "execution_count": null,
      "metadata": {
        "colab": {
          "base_uri": "https://localhost:8080/"
        },
        "id": "gYKInqi6yeNc",
        "outputId": "a7085bd3-c157-47c2-f14d-81324af12f3b"
      },
      "outputs": [
        {
          "output_type": "stream",
          "name": "stdout",
          "text": [
            "       species     island  culmen_length_mm  culmen_depth_mm  flipper_length_mm  body_mass_g     sex\n",
            "0       Adelie  Torgersen              39.1             18.7              181.0       3750.0    MALE\n",
            "1       Adelie  Torgersen              39.5             17.4              186.0       3800.0  FEMALE\n",
            "2       Adelie  Torgersen              40.3             18.0              195.0       3250.0  FEMALE\n",
            "4       Adelie  Torgersen              36.7             19.3              193.0       3450.0  FEMALE\n",
            "5       Adelie  Torgersen              39.3             20.6              190.0       3650.0    MALE\n",
            "6       Adelie  Torgersen              38.9             17.8              181.0       3625.0  FEMALE\n",
            "7       Adelie  Torgersen              39.2             19.6              195.0       4675.0    MALE\n",
            "12      Adelie  Torgersen              41.1             17.6              182.0       3200.0  FEMALE\n",
            "13      Adelie  Torgersen              38.6             21.2              191.0       3800.0    MALE\n",
            "14      Adelie  Torgersen              34.6             21.1              198.0       4400.0    MALE\n",
            "15      Adelie  Torgersen              36.6             17.8              185.0       3700.0  FEMALE\n",
            "16      Adelie  Torgersen              38.7             19.0              195.0       3450.0  FEMALE\n",
            "17      Adelie  Torgersen              42.5             20.7              197.0       4500.0    MALE\n",
            "18      Adelie  Torgersen              34.4             18.4              184.0       3325.0  FEMALE\n",
            "19      Adelie  Torgersen              46.0             21.5              194.0       4200.0    MALE\n",
            "20      Adelie     Biscoe              37.8             18.3              174.0       3400.0  FEMALE\n",
            "21      Adelie     Biscoe              37.7             18.7              180.0       3600.0    MALE\n",
            "22      Adelie     Biscoe              35.9             19.2              189.0       3800.0  FEMALE\n",
            "23      Adelie     Biscoe              38.2             18.1              185.0       3950.0    MALE\n",
            "24      Adelie     Biscoe              38.8             17.2              180.0       3800.0    MALE\n",
            "25      Adelie     Biscoe              35.3             18.9              187.0       3800.0  FEMALE\n",
            "26      Adelie     Biscoe              40.6             18.6              183.0       3550.0    MALE\n",
            "27      Adelie     Biscoe              40.5             17.9              187.0       3200.0  FEMALE\n",
            "28      Adelie     Biscoe              37.9             18.6              172.0       3150.0  FEMALE\n",
            "29      Adelie     Biscoe              40.5             18.9              180.0       3950.0    MALE\n",
            "30      Adelie      Dream              39.5             16.7              178.0       3250.0  FEMALE\n",
            "31      Adelie      Dream              37.2             18.1              178.0       3900.0    MALE\n",
            "32      Adelie      Dream              39.5             17.8              188.0       3300.0  FEMALE\n",
            "33      Adelie      Dream              40.9             18.9              184.0       3900.0    MALE\n",
            "34      Adelie      Dream              36.4             17.0              195.0       3325.0  FEMALE\n",
            "35      Adelie      Dream              39.2             21.1              196.0       4150.0    MALE\n",
            "36      Adelie      Dream              38.8             20.0              190.0       3950.0    MALE\n",
            "37      Adelie      Dream              42.2             18.5              180.0       3550.0  FEMALE\n",
            "38      Adelie      Dream              37.6             19.3              181.0       3300.0  FEMALE\n",
            "39      Adelie      Dream              39.8             19.1              184.0       4650.0    MALE\n",
            "40      Adelie      Dream              36.5             18.0              182.0       3150.0  FEMALE\n",
            "41      Adelie      Dream              40.8             18.4              195.0       3900.0    MALE\n",
            "42      Adelie      Dream              36.0             18.5              186.0       3100.0  FEMALE\n",
            "43      Adelie      Dream              44.1             19.7              196.0       4400.0    MALE\n",
            "44      Adelie      Dream              37.0             16.9              185.0       3000.0  FEMALE\n",
            "45      Adelie      Dream              39.6             18.8              190.0       4600.0    MALE\n",
            "46      Adelie      Dream              41.1             19.0              182.0       3425.0    MALE\n",
            "48      Adelie      Dream              36.0             17.9              190.0       3450.0  FEMALE\n",
            "49      Adelie      Dream              42.3             21.2              191.0       4150.0    MALE\n",
            "50      Adelie     Biscoe              39.6             17.7              186.0       3500.0  FEMALE\n",
            "51      Adelie     Biscoe              40.1             18.9              188.0       4300.0    MALE\n",
            "52      Adelie     Biscoe              35.0             17.9              190.0       3450.0  FEMALE\n",
            "53      Adelie     Biscoe              42.0             19.5              200.0       4050.0    MALE\n",
            "54      Adelie     Biscoe              34.5             18.1              187.0       2900.0  FEMALE\n",
            "55      Adelie     Biscoe              41.4             18.6              191.0       3700.0    MALE\n",
            "56      Adelie     Biscoe              39.0             17.5              186.0       3550.0  FEMALE\n",
            "57      Adelie     Biscoe              40.6             18.8              193.0       3800.0    MALE\n",
            "58      Adelie     Biscoe              36.5             16.6              181.0       2850.0  FEMALE\n",
            "59      Adelie     Biscoe              37.6             19.1              194.0       3750.0    MALE\n",
            "60      Adelie     Biscoe              35.7             16.9              185.0       3150.0  FEMALE\n",
            "61      Adelie     Biscoe              41.3             21.1              195.0       4400.0    MALE\n",
            "62      Adelie     Biscoe              37.6             17.0              185.0       3600.0  FEMALE\n",
            "63      Adelie     Biscoe              41.1             18.2              192.0       4050.0    MALE\n",
            "64      Adelie     Biscoe              36.4             17.1              184.0       2850.0  FEMALE\n",
            "65      Adelie     Biscoe              41.6             18.0              192.0       3950.0    MALE\n",
            "66      Adelie     Biscoe              35.5             16.2              195.0       3350.0  FEMALE\n",
            "67      Adelie     Biscoe              41.1             19.1              188.0       4100.0    MALE\n",
            "68      Adelie  Torgersen              35.9             16.6              190.0       3050.0  FEMALE\n",
            "69      Adelie  Torgersen              41.8             19.4              198.0       4450.0    MALE\n",
            "70      Adelie  Torgersen              33.5             19.0              190.0       3600.0  FEMALE\n",
            "71      Adelie  Torgersen              39.7             18.4              190.0       3900.0    MALE\n",
            "72      Adelie  Torgersen              39.6             17.2              196.0       3550.0  FEMALE\n",
            "73      Adelie  Torgersen              45.8             18.9              197.0       4150.0    MALE\n",
            "74      Adelie  Torgersen              35.5             17.5              190.0       3700.0  FEMALE\n",
            "75      Adelie  Torgersen              42.8             18.5              195.0       4250.0    MALE\n",
            "76      Adelie  Torgersen              40.9             16.8              191.0       3700.0  FEMALE\n",
            "77      Adelie  Torgersen              37.2             19.4              184.0       3900.0    MALE\n",
            "78      Adelie  Torgersen              36.2             16.1              187.0       3550.0  FEMALE\n",
            "79      Adelie  Torgersen              42.1             19.1              195.0       4000.0    MALE\n",
            "80      Adelie  Torgersen              34.6             17.2              189.0       3200.0  FEMALE\n",
            "81      Adelie  Torgersen              42.9             17.6              196.0       4700.0    MALE\n",
            "82      Adelie  Torgersen              36.7             18.8              187.0       3800.0  FEMALE\n",
            "83      Adelie  Torgersen              35.1             19.4              193.0       4200.0    MALE\n",
            "84      Adelie      Dream              37.3             17.8              191.0       3350.0  FEMALE\n",
            "85      Adelie      Dream              41.3             20.3              194.0       3550.0    MALE\n",
            "86      Adelie      Dream              36.3             19.5              190.0       3800.0    MALE\n",
            "87      Adelie      Dream              36.9             18.6              189.0       3500.0  FEMALE\n",
            "88      Adelie      Dream              38.3             19.2              189.0       3950.0    MALE\n",
            "89      Adelie      Dream              38.9             18.8              190.0       3600.0  FEMALE\n",
            "90      Adelie      Dream              35.7             18.0              202.0       3550.0  FEMALE\n",
            "91      Adelie      Dream              41.1             18.1              205.0       4300.0    MALE\n",
            "92      Adelie      Dream              34.0             17.1              185.0       3400.0  FEMALE\n",
            "93      Adelie      Dream              39.6             18.1              186.0       4450.0    MALE\n",
            "94      Adelie      Dream              36.2             17.3              187.0       3300.0  FEMALE\n",
            "95      Adelie      Dream              40.8             18.9              208.0       4300.0    MALE\n",
            "96      Adelie      Dream              38.1             18.6              190.0       3700.0  FEMALE\n",
            "97      Adelie      Dream              40.3             18.5              196.0       4350.0    MALE\n",
            "98      Adelie      Dream              33.1             16.1              178.0       2900.0  FEMALE\n",
            "99      Adelie      Dream              43.2             18.5              192.0       4100.0    MALE\n",
            "100     Adelie     Biscoe              35.0             17.9              192.0       3725.0  FEMALE\n",
            "101     Adelie     Biscoe              41.0             20.0              203.0       4725.0    MALE\n",
            "102     Adelie     Biscoe              37.7             16.0              183.0       3075.0  FEMALE\n",
            "103     Adelie     Biscoe              37.8             20.0              190.0       4250.0    MALE\n",
            "104     Adelie     Biscoe              37.9             18.6              193.0       2925.0  FEMALE\n",
            "105     Adelie     Biscoe              39.7             18.9              184.0       3550.0    MALE\n",
            "106     Adelie     Biscoe              38.6             17.2              199.0       3750.0  FEMALE\n",
            "107     Adelie     Biscoe              38.2             20.0              190.0       3900.0    MALE\n",
            "108     Adelie     Biscoe              38.1             17.0              181.0       3175.0  FEMALE\n",
            "109     Adelie     Biscoe              43.2             19.0              197.0       4775.0    MALE\n",
            "110     Adelie     Biscoe              38.1             16.5              198.0       3825.0  FEMALE\n",
            "111     Adelie     Biscoe              45.6             20.3              191.0       4600.0    MALE\n",
            "112     Adelie     Biscoe              39.7             17.7              193.0       3200.0  FEMALE\n",
            "113     Adelie     Biscoe              42.2             19.5              197.0       4275.0    MALE\n",
            "114     Adelie     Biscoe              39.6             20.7              191.0       3900.0  FEMALE\n",
            "115     Adelie     Biscoe              42.7             18.3              196.0       4075.0    MALE\n",
            "116     Adelie  Torgersen              38.6             17.0              188.0       2900.0  FEMALE\n",
            "117     Adelie  Torgersen              37.3             20.5              199.0       3775.0    MALE\n",
            "118     Adelie  Torgersen              35.7             17.0              189.0       3350.0  FEMALE\n",
            "119     Adelie  Torgersen              41.1             18.6              189.0       3325.0    MALE\n",
            "120     Adelie  Torgersen              36.2             17.2              187.0       3150.0  FEMALE\n",
            "121     Adelie  Torgersen              37.7             19.8              198.0       3500.0    MALE\n",
            "122     Adelie  Torgersen              40.2             17.0              176.0       3450.0  FEMALE\n",
            "123     Adelie  Torgersen              41.4             18.5              202.0       3875.0    MALE\n",
            "124     Adelie  Torgersen              35.2             15.9              186.0       3050.0  FEMALE\n",
            "125     Adelie  Torgersen              40.6             19.0              199.0       4000.0    MALE\n",
            "126     Adelie  Torgersen              38.8             17.6              191.0       3275.0  FEMALE\n",
            "127     Adelie  Torgersen              41.5             18.3              195.0       4300.0    MALE\n",
            "128     Adelie  Torgersen              39.0             17.1              191.0       3050.0  FEMALE\n",
            "129     Adelie  Torgersen              44.1             18.0              210.0       4000.0    MALE\n",
            "130     Adelie  Torgersen              38.5             17.9              190.0       3325.0  FEMALE\n",
            "131     Adelie  Torgersen              43.1             19.2              197.0       3500.0    MALE\n",
            "132     Adelie      Dream              36.8             18.5              193.0       3500.0  FEMALE\n",
            "133     Adelie      Dream              37.5             18.5              199.0       4475.0    MALE\n",
            "134     Adelie      Dream              38.1             17.6              187.0       3425.0  FEMALE\n",
            "135     Adelie      Dream              41.1             17.5              190.0       3900.0    MALE\n",
            "136     Adelie      Dream              35.6             17.5              191.0       3175.0  FEMALE\n",
            "137     Adelie      Dream              40.2             20.1              200.0       3975.0    MALE\n",
            "138     Adelie      Dream              37.0             16.5              185.0       3400.0  FEMALE\n",
            "139     Adelie      Dream              39.7             17.9              193.0       4250.0    MALE\n",
            "140     Adelie      Dream              40.2             17.1              193.0       3400.0  FEMALE\n",
            "141     Adelie      Dream              40.6             17.2              187.0       3475.0    MALE\n",
            "142     Adelie      Dream              32.1             15.5              188.0       3050.0  FEMALE\n",
            "143     Adelie      Dream              40.7             17.0              190.0       3725.0    MALE\n",
            "144     Adelie      Dream              37.3             16.8              192.0       3000.0  FEMALE\n",
            "145     Adelie      Dream              39.0             18.7              185.0       3650.0    MALE\n",
            "146     Adelie      Dream              39.2             18.6              190.0       4250.0    MALE\n",
            "147     Adelie      Dream              36.6             18.4              184.0       3475.0  FEMALE\n",
            "148     Adelie      Dream              36.0             17.8              195.0       3450.0  FEMALE\n",
            "149     Adelie      Dream              37.8             18.1              193.0       3750.0    MALE\n",
            "150     Adelie      Dream              36.0             17.1              187.0       3700.0  FEMALE\n",
            "151     Adelie      Dream              41.5             18.5              201.0       4000.0    MALE\n",
            "152  Chinstrap      Dream              46.5             17.9              192.0       3500.0  FEMALE\n",
            "153  Chinstrap      Dream              50.0             19.5              196.0       3900.0    MALE\n",
            "154  Chinstrap      Dream              51.3             19.2              193.0       3650.0    MALE\n",
            "155  Chinstrap      Dream              45.4             18.7              188.0       3525.0  FEMALE\n",
            "156  Chinstrap      Dream              52.7             19.8              197.0       3725.0    MALE\n",
            "157  Chinstrap      Dream              45.2             17.8              198.0       3950.0  FEMALE\n",
            "158  Chinstrap      Dream              46.1             18.2              178.0       3250.0  FEMALE\n",
            "159  Chinstrap      Dream              51.3             18.2              197.0       3750.0    MALE\n",
            "160  Chinstrap      Dream              46.0             18.9              195.0       4150.0  FEMALE\n",
            "161  Chinstrap      Dream              51.3             19.9              198.0       3700.0    MALE\n",
            "162  Chinstrap      Dream              46.6             17.8              193.0       3800.0  FEMALE\n",
            "163  Chinstrap      Dream              51.7             20.3              194.0       3775.0    MALE\n",
            "164  Chinstrap      Dream              47.0             17.3              185.0       3700.0  FEMALE\n",
            "165  Chinstrap      Dream              52.0             18.1              201.0       4050.0    MALE\n",
            "166  Chinstrap      Dream              45.9             17.1              190.0       3575.0  FEMALE\n",
            "167  Chinstrap      Dream              50.5             19.6              201.0       4050.0    MALE\n",
            "168  Chinstrap      Dream              50.3             20.0              197.0       3300.0    MALE\n",
            "169  Chinstrap      Dream              58.0             17.8              181.0       3700.0  FEMALE\n",
            "170  Chinstrap      Dream              46.4             18.6              190.0       3450.0  FEMALE\n",
            "171  Chinstrap      Dream              49.2             18.2              195.0       4400.0    MALE\n",
            "172  Chinstrap      Dream              42.4             17.3              181.0       3600.0  FEMALE\n",
            "173  Chinstrap      Dream              48.5             17.5              191.0       3400.0    MALE\n",
            "174  Chinstrap      Dream              43.2             16.6              187.0       2900.0  FEMALE\n",
            "175  Chinstrap      Dream              50.6             19.4              193.0       3800.0    MALE\n",
            "176  Chinstrap      Dream              46.7             17.9              195.0       3300.0  FEMALE\n",
            "177  Chinstrap      Dream              52.0             19.0              197.0       4150.0    MALE\n",
            "178  Chinstrap      Dream              50.5             18.4              200.0       3400.0  FEMALE\n",
            "179  Chinstrap      Dream              49.5             19.0              200.0       3800.0    MALE\n",
            "180  Chinstrap      Dream              46.4             17.8              191.0       3700.0  FEMALE\n",
            "181  Chinstrap      Dream              52.8             20.0              205.0       4550.0    MALE\n",
            "182  Chinstrap      Dream              40.9             16.6              187.0       3200.0  FEMALE\n",
            "183  Chinstrap      Dream              54.2             20.8              201.0       4300.0    MALE\n",
            "184  Chinstrap      Dream              42.5             16.7              187.0       3350.0  FEMALE\n",
            "185  Chinstrap      Dream              51.0             18.8              203.0       4100.0    MALE\n",
            "186  Chinstrap      Dream              49.7             18.6              195.0       3600.0    MALE\n",
            "187  Chinstrap      Dream              47.5             16.8              199.0       3900.0  FEMALE\n",
            "188  Chinstrap      Dream              47.6             18.3              195.0       3850.0  FEMALE\n",
            "189  Chinstrap      Dream              52.0             20.7              210.0       4800.0    MALE\n",
            "190  Chinstrap      Dream              46.9             16.6              192.0       2700.0  FEMALE\n",
            "191  Chinstrap      Dream              53.5             19.9              205.0       4500.0    MALE\n",
            "192  Chinstrap      Dream              49.0             19.5              210.0       3950.0    MALE\n",
            "193  Chinstrap      Dream              46.2             17.5              187.0       3650.0  FEMALE\n",
            "194  Chinstrap      Dream              50.9             19.1              196.0       3550.0    MALE\n",
            "195  Chinstrap      Dream              45.5             17.0              196.0       3500.0  FEMALE\n",
            "196  Chinstrap      Dream              50.9             17.9              196.0       3675.0  FEMALE\n",
            "197  Chinstrap      Dream              50.8             18.5              201.0       4450.0    MALE\n",
            "198  Chinstrap      Dream              50.1             17.9              190.0       3400.0  FEMALE\n",
            "199  Chinstrap      Dream              49.0             19.6              212.0       4300.0    MALE\n",
            "200  Chinstrap      Dream              51.5             18.7              187.0       3250.0    MALE\n",
            "201  Chinstrap      Dream              49.8             17.3              198.0       3675.0  FEMALE\n",
            "202  Chinstrap      Dream              48.1             16.4              199.0       3325.0  FEMALE\n",
            "203  Chinstrap      Dream              51.4             19.0              201.0       3950.0    MALE\n",
            "204  Chinstrap      Dream              45.7             17.3              193.0       3600.0  FEMALE\n",
            "205  Chinstrap      Dream              50.7             19.7              203.0       4050.0    MALE\n",
            "206  Chinstrap      Dream              42.5             17.3              187.0       3350.0  FEMALE\n",
            "207  Chinstrap      Dream              52.2             18.8              197.0       3450.0    MALE\n",
            "208  Chinstrap      Dream              45.2             16.6              191.0       3250.0  FEMALE\n",
            "209  Chinstrap      Dream              49.3             19.9              203.0       4050.0    MALE\n",
            "210  Chinstrap      Dream              50.2             18.8              202.0       3800.0    MALE\n",
            "211  Chinstrap      Dream              45.6             19.4              194.0       3525.0  FEMALE\n",
            "212  Chinstrap      Dream              51.9             19.5              206.0       3950.0    MALE\n",
            "213  Chinstrap      Dream              46.8             16.5              189.0       3650.0  FEMALE\n",
            "214  Chinstrap      Dream              45.7             17.0              195.0       3650.0  FEMALE\n",
            "215  Chinstrap      Dream              55.8             19.8              207.0       4000.0    MALE\n",
            "216  Chinstrap      Dream              43.5             18.1              202.0       3400.0  FEMALE\n",
            "217  Chinstrap      Dream              49.6             18.2              193.0       3775.0    MALE\n",
            "218  Chinstrap      Dream              50.8             19.0              210.0       4100.0    MALE\n",
            "219  Chinstrap      Dream              50.2             18.7              198.0       3775.0  FEMALE\n",
            "220     Gentoo     Biscoe              46.1             13.2              211.0       4500.0  FEMALE\n",
            "221     Gentoo     Biscoe              50.0             16.3              230.0       5700.0    MALE\n",
            "222     Gentoo     Biscoe              48.7             14.1              210.0       4450.0  FEMALE\n",
            "223     Gentoo     Biscoe              50.0             15.2              218.0       5700.0    MALE\n",
            "224     Gentoo     Biscoe              47.6             14.5              215.0       5400.0    MALE\n",
            "225     Gentoo     Biscoe              46.5             13.5              210.0       4550.0  FEMALE\n",
            "226     Gentoo     Biscoe              45.4             14.6              211.0       4800.0  FEMALE\n",
            "227     Gentoo     Biscoe              46.7             15.3              219.0       5200.0    MALE\n",
            "228     Gentoo     Biscoe              43.3             13.4              209.0       4400.0  FEMALE\n",
            "229     Gentoo     Biscoe              46.8             15.4              215.0       5150.0    MALE\n",
            "230     Gentoo     Biscoe              40.9             13.7              214.0       4650.0  FEMALE\n",
            "231     Gentoo     Biscoe              49.0             16.1              216.0       5550.0    MALE\n",
            "232     Gentoo     Biscoe              45.5             13.7              214.0       4650.0  FEMALE\n",
            "233     Gentoo     Biscoe              48.4             14.6              213.0       5850.0    MALE\n",
            "234     Gentoo     Biscoe              45.8             14.6              210.0       4200.0  FEMALE\n",
            "235     Gentoo     Biscoe              49.3             15.7              217.0       5850.0    MALE\n",
            "236     Gentoo     Biscoe              42.0             13.5              210.0       4150.0  FEMALE\n",
            "237     Gentoo     Biscoe              49.2             15.2              221.0       6300.0    MALE\n",
            "238     Gentoo     Biscoe              46.2             14.5              209.0       4800.0  FEMALE\n",
            "239     Gentoo     Biscoe              48.7             15.1              222.0       5350.0    MALE\n",
            "240     Gentoo     Biscoe              50.2             14.3              218.0       5700.0    MALE\n",
            "241     Gentoo     Biscoe              45.1             14.5              215.0       5000.0  FEMALE\n",
            "242     Gentoo     Biscoe              46.5             14.5              213.0       4400.0  FEMALE\n",
            "243     Gentoo     Biscoe              46.3             15.8              215.0       5050.0    MALE\n",
            "244     Gentoo     Biscoe              42.9             13.1              215.0       5000.0  FEMALE\n",
            "245     Gentoo     Biscoe              46.1             15.1              215.0       5100.0    MALE\n",
            "247     Gentoo     Biscoe              47.8             15.0              215.0       5650.0    MALE\n",
            "248     Gentoo     Biscoe              48.2             14.3              210.0       4600.0  FEMALE\n",
            "249     Gentoo     Biscoe              50.0             15.3              220.0       5550.0    MALE\n",
            "250     Gentoo     Biscoe              47.3             15.3              222.0       5250.0    MALE\n",
            "251     Gentoo     Biscoe              42.8             14.2              209.0       4700.0  FEMALE\n",
            "252     Gentoo     Biscoe              45.1             14.5              207.0       5050.0  FEMALE\n",
            "253     Gentoo     Biscoe              59.6             17.0              230.0       6050.0    MALE\n",
            "254     Gentoo     Biscoe              49.1             14.8              220.0       5150.0  FEMALE\n",
            "255     Gentoo     Biscoe              48.4             16.3              220.0       5400.0    MALE\n",
            "256     Gentoo     Biscoe              42.6             13.7              213.0       4950.0  FEMALE\n",
            "257     Gentoo     Biscoe              44.4             17.3              219.0       5250.0    MALE\n",
            "258     Gentoo     Biscoe              44.0             13.6              208.0       4350.0  FEMALE\n",
            "259     Gentoo     Biscoe              48.7             15.7              208.0       5350.0    MALE\n",
            "260     Gentoo     Biscoe              42.7             13.7              208.0       3950.0  FEMALE\n",
            "261     Gentoo     Biscoe              49.6             16.0              225.0       5700.0    MALE\n",
            "262     Gentoo     Biscoe              45.3             13.7              210.0       4300.0  FEMALE\n",
            "263     Gentoo     Biscoe              49.6             15.0              216.0       4750.0    MALE\n",
            "264     Gentoo     Biscoe              50.5             15.9              222.0       5550.0    MALE\n",
            "265     Gentoo     Biscoe              43.6             13.9              217.0       4900.0  FEMALE\n",
            "266     Gentoo     Biscoe              45.5             13.9              210.0       4200.0  FEMALE\n",
            "267     Gentoo     Biscoe              50.5             15.9              225.0       5400.0    MALE\n",
            "268     Gentoo     Biscoe              44.9             13.3              213.0       5100.0  FEMALE\n",
            "269     Gentoo     Biscoe              45.2             15.8              215.0       5300.0    MALE\n",
            "270     Gentoo     Biscoe              46.6             14.2              210.0       4850.0  FEMALE\n",
            "271     Gentoo     Biscoe              48.5             14.1              220.0       5300.0    MALE\n",
            "272     Gentoo     Biscoe              45.1             14.4              210.0       4400.0  FEMALE\n",
            "273     Gentoo     Biscoe              50.1             15.0              225.0       5000.0    MALE\n",
            "274     Gentoo     Biscoe              46.5             14.4              217.0       4900.0  FEMALE\n",
            "275     Gentoo     Biscoe              45.0             15.4              220.0       5050.0    MALE\n",
            "276     Gentoo     Biscoe              43.8             13.9              208.0       4300.0  FEMALE\n",
            "277     Gentoo     Biscoe              45.5             15.0              220.0       5000.0    MALE\n",
            "278     Gentoo     Biscoe              43.2             14.5              208.0       4450.0  FEMALE\n",
            "279     Gentoo     Biscoe              50.4             15.3              224.0       5550.0    MALE\n",
            "280     Gentoo     Biscoe              45.3             13.8              208.0       4200.0  FEMALE\n",
            "281     Gentoo     Biscoe              46.2             14.9              221.0       5300.0    MALE\n",
            "282     Gentoo     Biscoe              45.7             13.9              214.0       4400.0  FEMALE\n",
            "283     Gentoo     Biscoe              54.3             15.7              231.0       5650.0    MALE\n",
            "284     Gentoo     Biscoe              45.8             14.2              219.0       4700.0  FEMALE\n",
            "285     Gentoo     Biscoe              49.8             16.8              230.0       5700.0    MALE\n",
            "287     Gentoo     Biscoe              49.5             16.2              229.0       5800.0    MALE\n",
            "288     Gentoo     Biscoe              43.5             14.2              220.0       4700.0  FEMALE\n",
            "289     Gentoo     Biscoe              50.7             15.0              223.0       5550.0    MALE\n",
            "290     Gentoo     Biscoe              47.7             15.0              216.0       4750.0  FEMALE\n",
            "291     Gentoo     Biscoe              46.4             15.6              221.0       5000.0    MALE\n",
            "292     Gentoo     Biscoe              48.2             15.6              221.0       5100.0    MALE\n",
            "293     Gentoo     Biscoe              46.5             14.8              217.0       5200.0  FEMALE\n",
            "294     Gentoo     Biscoe              46.4             15.0              216.0       4700.0  FEMALE\n",
            "295     Gentoo     Biscoe              48.6             16.0              230.0       5800.0    MALE\n",
            "296     Gentoo     Biscoe              47.5             14.2              209.0       4600.0  FEMALE\n",
            "297     Gentoo     Biscoe              51.1             16.3              220.0       6000.0    MALE\n",
            "298     Gentoo     Biscoe              45.2             13.8              215.0       4750.0  FEMALE\n",
            "299     Gentoo     Biscoe              45.2             16.4              223.0       5950.0    MALE\n",
            "300     Gentoo     Biscoe              49.1             14.5              212.0       4625.0  FEMALE\n",
            "301     Gentoo     Biscoe              52.5             15.6              221.0       5450.0    MALE\n",
            "302     Gentoo     Biscoe              47.4             14.6              212.0       4725.0  FEMALE\n",
            "303     Gentoo     Biscoe              50.0             15.9              224.0       5350.0    MALE\n",
            "304     Gentoo     Biscoe              44.9             13.8              212.0       4750.0  FEMALE\n",
            "305     Gentoo     Biscoe              50.8             17.3              228.0       5600.0    MALE\n",
            "306     Gentoo     Biscoe              43.4             14.4              218.0       4600.0  FEMALE\n",
            "307     Gentoo     Biscoe              51.3             14.2              218.0       5300.0    MALE\n",
            "308     Gentoo     Biscoe              47.5             14.0              212.0       4875.0  FEMALE\n",
            "309     Gentoo     Biscoe              52.1             17.0              230.0       5550.0    MALE\n",
            "310     Gentoo     Biscoe              47.5             15.0              218.0       4950.0  FEMALE\n",
            "311     Gentoo     Biscoe              52.2             17.1              228.0       5400.0    MALE\n",
            "312     Gentoo     Biscoe              45.5             14.5              212.0       4750.0  FEMALE\n",
            "313     Gentoo     Biscoe              49.5             16.1              224.0       5650.0    MALE\n",
            "314     Gentoo     Biscoe              44.5             14.7              214.0       4850.0  FEMALE\n",
            "315     Gentoo     Biscoe              50.8             15.7              226.0       5200.0    MALE\n",
            "316     Gentoo     Biscoe              49.4             15.8              216.0       4925.0    MALE\n",
            "317     Gentoo     Biscoe              46.9             14.6              222.0       4875.0  FEMALE\n",
            "318     Gentoo     Biscoe              48.4             14.4              203.0       4625.0  FEMALE\n",
            "319     Gentoo     Biscoe              51.1             16.5              225.0       5250.0    MALE\n",
            "320     Gentoo     Biscoe              48.5             15.0              219.0       4850.0  FEMALE\n",
            "321     Gentoo     Biscoe              55.9             17.0              228.0       5600.0    MALE\n",
            "322     Gentoo     Biscoe              47.2             15.5              215.0       4975.0  FEMALE\n",
            "323     Gentoo     Biscoe              49.1             15.0              228.0       5500.0    MALE\n",
            "325     Gentoo     Biscoe              46.8             16.1              215.0       5500.0    MALE\n",
            "326     Gentoo     Biscoe              41.7             14.7              210.0       4700.0  FEMALE\n",
            "327     Gentoo     Biscoe              53.4             15.8              219.0       5500.0    MALE\n",
            "328     Gentoo     Biscoe              43.3             14.0              208.0       4575.0  FEMALE\n",
            "329     Gentoo     Biscoe              48.1             15.1              209.0       5500.0    MALE\n",
            "330     Gentoo     Biscoe              50.5             15.2              216.0       5000.0  FEMALE\n",
            "331     Gentoo     Biscoe              49.8             15.9              229.0       5950.0    MALE\n",
            "332     Gentoo     Biscoe              43.5             15.2              213.0       4650.0  FEMALE\n",
            "333     Gentoo     Biscoe              51.5             16.3              230.0       5500.0    MALE\n",
            "334     Gentoo     Biscoe              46.2             14.1              217.0       4375.0  FEMALE\n",
            "335     Gentoo     Biscoe              55.1             16.0              230.0       5850.0    MALE\n",
            "337     Gentoo     Biscoe              48.8             16.2              222.0       6000.0    MALE\n",
            "338     Gentoo     Biscoe              47.2             13.7              214.0       4925.0  FEMALE\n",
            "340     Gentoo     Biscoe              46.8             14.3              215.0       4850.0  FEMALE\n",
            "341     Gentoo     Biscoe              50.4             15.7              222.0       5750.0    MALE\n",
            "342     Gentoo     Biscoe              45.2             14.8              212.0       5200.0  FEMALE\n",
            "343     Gentoo     Biscoe              49.9             16.1              213.0       5400.0    MALE\n",
            "333\n"
          ]
        }
      ],
      "source": [
        "df = df.dropna()\n",
        "\n",
        "print(df.to_string())\n",
        "print(len(df))"
      ]
    },
    {
      "cell_type": "markdown",
      "metadata": {
        "id": "VHOBIaH4yeNc"
      },
      "source": [
        "**2.c)** How many penguins of each `species` and `sex` live in each `island`? Answer this question with `pandas`."
      ]
    },
    {
      "cell_type": "code",
      "execution_count": null,
      "metadata": {
        "colab": {
          "base_uri": "https://localhost:8080/"
        },
        "id": "6xRpn-SPyeNc",
        "outputId": "d383309e-05dc-4315-edf3-c6ae6251ee3b"
      },
      "outputs": [
        {
          "output_type": "stream",
          "name": "stdout",
          "text": [
            "{('Adelie', 'FEMALE', 'Biscoe'): 22, ('Adelie', 'FEMALE', 'Dream'): 27, ('Adelie', 'FEMALE', 'Torgersen'): 24, ('Adelie', 'MALE', 'Biscoe'): 22, ('Adelie', 'MALE', 'Dream'): 28, ('Adelie', 'MALE', 'Torgersen'): 23, ('Chinstrap', 'FEMALE', 'Dream'): 34, ('Chinstrap', 'MALE', 'Dream'): 34, ('Gentoo', 'FEMALE', 'Biscoe'): 58, ('Gentoo', 'MALE', 'Biscoe'): 61}\n"
          ]
        }
      ],
      "source": [
        "result = df.groupby(['species', 'sex', 'island']).size().reset_index(name='count')\n",
        "\n",
        "# Extract the numbers as a dictionary\n",
        "result_dict = result.set_index(['species', 'sex', 'island'])['count'].to_dict()\n",
        "\n",
        "# Display the result as a dictionary\n",
        "print(result_dict)"
      ]
    },
    {
      "cell_type": "markdown",
      "metadata": {
        "id": "zxZBCFsfyeNd"
      },
      "source": [
        "**2.d)** Plot a correlation matrix of the numerical columns (with a statistical significance of 0.1%)."
      ]
    },
    {
      "cell_type": "code",
      "execution_count": null,
      "metadata": {
        "id": "fGYYDQ1WyeNd",
        "colab": {
          "base_uri": "https://localhost:8080/",
          "height": 667
        },
        "outputId": "a46a1481-ee30-4d9d-d1aa-c9f2889d35ea"
      },
      "outputs": [
        {
          "output_type": "display_data",
          "data": {
            "text/plain": [
              "<Figure size 800x600 with 2 Axes>"
            ],
            "image/png": "[encoded data removed]"
          },
          "metadata": {}
        }
      ],
      "source": [
        "import seaborn as sns\n",
        "import matplotlib.pyplot as plt\n",
        "\n",
        "\n",
        "\n",
        "# Select only the numerical columns for correlation matrix\n",
        "numerical_columns = df.select_dtypes(include=['float64']).columns\n",
        "\n",
        "# Calculate the correlation matrix\n",
        "correlation_matrix = df[numerical_columns].corr()\n",
        "\n",
        "# Set up the matplotlib figure\n",
        "plt.figure(figsize=(8, 6))\n",
        "\n",
        "# Plot the heatmap using seaborn\n",
        "sns.heatmap(correlation_matrix, annot=True, cmap='coolwarm', fmt=\".2f\", vmin=-1, vmax=1)\n",
        "\n",
        "# Set the title of the plot\n",
        "plt.title('Correlation Matrix of Numerical Columns')\n",
        "\n",
        "# Show the plot\n",
        "plt.show()"
      ]
    },
    {
      "cell_type": "markdown",
      "metadata": {
        "id": "BM90R_i8OCik"
      },
      "source": [
        "**2.e)** Perform a simple linear regression considering `body_mass_g` as the response and `flipper_length_mm` as the predictor. Print the obtained model and the $R^2$. Explain why this is a good choice of predictor."
      ]
    },
    {
      "cell_type": "code",
      "execution_count": null,
      "metadata": {
        "id": "teI35X_p9TAM",
        "colab": {
          "base_uri": "https://localhost:8080/"
        },
        "outputId": "058a44ae-942b-4c9a-8d8a-a35a9c240dc9"
      },
      "outputs": [
        {
          "output_type": "stream",
          "name": "stdout",
          "text": [
            "R-squared: 0.7938115564401114\n",
            "Intercept: -5919.258741821233\n",
            "Coefficient: 50.41798199462178\n"
          ]
        }
      ],
      "source": [
        "#Using flipper_length_mm as the predictor makes sense because it has the highest correlation with body_mass_g out of all the numerical columns.\n",
        "from sklearn.linear_model import LinearRegression\n",
        "from sklearn.model_selection import train_test_split\n",
        "from sklearn import metrics\n",
        "from sklearn.preprocessing import StandardScaler\n",
        "from sklearn.preprocessing import normalize\n",
        "import numpy as np\n",
        "\n",
        "X = df.dropna()[\"flipper_length_mm\"].to_numpy().reshape(-1,1)#flipper_length\n",
        "y = df.dropna()[\"body_mass_g\"].to_numpy() #body_mass_g\n",
        "\n",
        "\n",
        "\n",
        "X_train, X_test, y_train, y_test = train_test_split(X, y, test_size=0.2, random_state=42)\n",
        "\n",
        "reg = LinearRegression().fit(X_train, y_train)\n",
        "\n",
        "# Predicting on the test set\n",
        "y_pred = reg.predict(X_test)\n",
        "\n",
        "r2_simple = metrics.r2_score(y_test, y_pred)\n",
        "print(\"R-squared:\", r2_simple)\n",
        "\n",
        "print(\"Intercept:\", reg.intercept_)\n",
        "print(\"Coefficient:\", reg.coef_[0])"
      ]
    },
    {
      "cell_type": "code",
      "source": [],
      "metadata": {
        "id": "mMpwKHdKFZ1l"
      },
      "execution_count": null,
      "outputs": []
    },
    {
      "cell_type": "markdown",
      "metadata": {
        "id": "yRYL0_TeQQfp"
      },
      "source": [
        "**2.f)** Plot a scatter plot of the response and predictor, along with the regression line."
      ]
    },
    {
      "cell_type": "markdown",
      "source": [],
      "metadata": {
        "id": "zH1NOm715YJO"
      }
    },
    {
      "cell_type": "code",
      "source": [
        "\n",
        "plt.scatter(X_train,y_train, color='black')\n",
        "plt.plot(X_test, y_pred, color='red')\n",
        "plt.xlabel('Flipper Length (mm)')\n",
        "plt.ylabel('Body Mass (g)')\n",
        "plt.title('Scatter Plot with Regression Line')\n",
        "plt.show()"
      ],
      "metadata": {
        "colab": {
          "base_uri": "https://localhost:8080/",
          "height": 472
        },
        "id": "Y6XjHn2SFbp9",
        "outputId": "b84b06b5-07fa-4055-810f-6402b9b924fd"
      },
      "execution_count": null,
      "outputs": [
        {
          "output_type": "display_data",
          "data": {
            "text/plain": [
              "<Figure size 640x480 with 1 Axes>"
            ],
            "image/png": "[encoded data removed]"
          },
          "metadata": {}
        }
      ]
    },
    {
      "cell_type": "markdown",
      "metadata": {
        "id": "KogKGoXDyeNe"
      },
      "source": [
        "**2.g)** A baby penguin has a flipper length of around 50 mm. What is the predicted value of the body mass of a baby penguin? Comment on the prediction of the model."
      ]
    },
    {
      "cell_type": "code",
      "execution_count": null,
      "metadata": {
        "id": "E8uRza1QyeNe",
        "colab": {
          "base_uri": "https://localhost:8080/"
        },
        "outputId": "30ca4064-13d7-4ad1-b2e4-d9f74579ca00"
      },
      "outputs": [
        {
          "output_type": "stream",
          "name": "stdout",
          "text": [
            "[-3398.35964209]\n"
          ]
        }
      ],
      "source": [
        "import numpy as np\n",
        "\n",
        "sample = np.array([50]).reshape(-1,1)\n",
        "\n",
        "prediction = reg.predict(sample)\n",
        "\n",
        "print(prediction)\n",
        "\n",
        "#The model is extrapolating beyond the range of the training data.\n",
        "#It has not been trained on baby penguins which means it will continue the linear trend which gives predictions that does not make sense.\n"
      ]
    },
    {
      "cell_type": "markdown",
      "metadata": {
        "id": "P8QAU7TRyeNe"
      },
      "source": [
        "**2.h)** Perform a multiple linear regression considering `body_mass_g` as the response and using all numerical predictors. Compare the $R^2$ of the simple linear regression model and the multiple linear regression model."
      ]
    },
    {
      "cell_type": "code",
      "execution_count": null,
      "metadata": {
        "id": "RmJxckZzyeNe",
        "colab": {
          "base_uri": "https://localhost:8080/"
        },
        "outputId": "6edcf780-4dc9-474a-e52f-203000e90bf6"
      },
      "outputs": [
        {
          "output_type": "stream",
          "name": "stdout",
          "text": [
            "R-squared: 0.7980758349105356\n",
            "Intercept: -6227.68841061579\n",
            "Coefficient: 3.85768347240655\n",
            "R2 for simple: 0.7938115564401114, R2 for multi: 0.7980758349105356\n"
          ]
        }
      ],
      "source": [
        "\n",
        "X = df.dropna()[numerical_columns].drop(\"body_mass_g\", axis=1).to_numpy()#Numerical predictors except bodymass_g\n",
        "y = df.dropna()[\"body_mass_g\"].to_numpy() #body_mass_g\n",
        "\n",
        "X_train, X_test, y_train, y_test = train_test_split(X, y, test_size=0.2, random_state=42)\n",
        "\n",
        "reg_multi = LinearRegression().fit(X_train, y_train)\n",
        "\n",
        "# Predicting on the test set\n",
        "y_pred_multi = reg_multi.predict(X_test)\n",
        "\n",
        "r2_multi = metrics.r2_score(y_test, y_pred_multi)\n",
        "print(\"R-squared:\", r2_multi)\n",
        "\n",
        "print(\"Intercept:\", reg_multi.intercept_)\n",
        "print(\"Coefficient:\", reg_multi.coef_[0])\n",
        "\n",
        "print(f\"R2 for simple: {r2_simple}, R2 for multi: {r2_multi}\")\n",
        "\n"
      ]
    },
    {
      "cell_type": "markdown",
      "metadata": {
        "id": "K8l9tpNoyeNe"
      },
      "source": [
        "**2.g)** Perform a multiple  linear regression considering `body_mass_g` as the response and using all predictors. Comment on the $R^2$ of this model."
      ]
    },
    {
      "cell_type": "code",
      "execution_count": null,
      "metadata": {
        "id": "oj0wCpjZyeNf",
        "colab": {
          "base_uri": "https://localhost:8080/"
        },
        "outputId": "ad0dd4b2-189e-44ad-9416-3944ed12b04f"
      },
      "outputs": [
        {
          "output_type": "stream",
          "name": "stdout",
          "text": [
            "R-squared: 0.8961688345769453\n",
            "Intercept: -1294.6775785475047\n",
            "Coefficient: 17.14973198319305\n"
          ]
        }
      ],
      "source": [
        "#One-hot encoding , get one column for each non-numerical columns; species, sex, island.\n",
        "df_encoded = pd.get_dummies(df.dropna(), columns=['species', 'sex', 'island'], drop_first=True)\n",
        "\n",
        "X = df_encoded.drop(\"body_mass_g\", axis=1).to_numpy()\n",
        "y = df.dropna()[\"body_mass_g\"].to_numpy()\n",
        "\n",
        "X_train, X_test, y_train, y_test = train_test_split(X, y, test_size=0.2, random_state=42)\n",
        "\n",
        "reg_multi = LinearRegression().fit(X_train, y_train)\n",
        "\n",
        "# Predicting on the test set\n",
        "y_pred_multi = reg_multi.predict(X_test)\n",
        "\n",
        "r2_multi = metrics.r2_score(y_test, y_pred_multi)\n",
        "print(\"R-squared:\", r2_multi)\n",
        "\n",
        "print(\"Intercept:\", reg_multi.intercept_)\n",
        "print(\"Coefficient:\", reg_multi.coef_[0])\n",
        "\n",
        "\n",
        "\n",
        "\n",
        "\n"
      ]
    },
    {
      "cell_type": "markdown",
      "metadata": {
        "id": "1xBHkVadQ5Ot"
      },
      "source": [
        "## Section 2 -- Classification"
      ]
    },
    {
      "cell_type": "markdown",
      "metadata": {
        "id": "SIpGTVYkRD9A"
      },
      "source": [
        "**3)** Suppose that a dataset is divided into two equally-sized training and test sets, and then try out two different classification procedures:\n",
        "\n",
        "* The first is the logistic regression, obtaining an error rate of 20% on the training data and 30% on the test data.\n",
        "* The second is a 1-nearest neighbors, with an average error rate (averaged over test and training datasets) of 18%.\n",
        "\n",
        "Based on these results, which method is preferred for classifying new observations? Why?"
      ]
    },
    {
      "cell_type": "markdown",
      "metadata": {
        "id": "4oPohcizBV3J"
      },
      "source": [
        "It depends on how we want the model to behave. In the logisitic regression case we will wrongly classify 30% of unseen data. This is a known fact. In the 1-nearest neighbors case we do not know how the model performs on unseen data. It could be very overfitted to the training which will give a very low error rate, and perform very bad on test data. This can still produce a low error rate on average and mask its true generalization ability. So when classifying new unseen data the preferred method should be the Logistic Regression since we know its error rate and can take that into account when interpreting the results."
      ]
    },
    {
      "cell_type": "markdown",
      "metadata": {
        "id": "z0Ws08q_SVLO"
      },
      "source": [
        "**4.a)** Consider again the penguins dataset. However, the objective now is to predict the `sex` of the penguin based on the other variables. Split the data into test and training datasets. Consider a test dataset comprised of 30% of the whole dataset."
      ]
    },
    {
      "cell_type": "code",
      "execution_count": null,
      "metadata": {
        "id": "Zmk2OAC3w-W6",
        "colab": {
          "base_uri": "https://localhost:8080/"
        },
        "outputId": "54e2783c-6034-4cdd-ec4d-8e13be67ad75"
      },
      "outputs": [
        {
          "output_type": "stream",
          "name": "stdout",
          "text": [
            "[1 0 0 0 1 0 1 0 1 1 0 0 1 0 1 0 1 0 1 1 0 1 0 0 1 0 1 0 1 0 1 1 0 0 1 0 1\n",
            " 0 1 0 1 1 0 1 0 1 0 1 0 1 0 1 0 1 0 1 0 1 0 1 0 1 0 1 0 1 0 1 0 1 0 1 0 1\n",
            " 0 1 0 1 0 1 1 0 1 0 0 1 0 1 0 1 0 1 0 1 0 1 0 1 0 1 0 1 0 1 0 1 0 1 0 1 0\n",
            " 1 0 1 0 1 0 1 0 1 0 1 0 1 0 1 0 1 0 1 0 1 0 1 0 1 0 1 0 1 1 0 0 1 0 1 0 1\n",
            " 1 0 1 0 0 1 0 1 0 1 0 1 0 1 1 0 0 1 0 1 0 1 0 1 0 1 0 1 0 1 0 1 1 0 0 1 0\n",
            " 1 1 0 1 0 0 1 0 1 1 0 0 1 0 1 0 1 0 1 1 0 1 0 0 1 0 1 1 0 0 1 0 1 1 0 0 1\n",
            " 0 1 0 1 0 1 0 1 0 1 0 1 1 0 0 1 0 1 1 0 1 1 0 0 1 0 1 0 1 0 1 0 1 0 1 1 0\n",
            " 0 1 0 1 0 1 0 1 0 1 0 1 0 1 0 1 0 1 0 1 1 0 1 0 1 1 0 0 1 0 1 0 1 0 1 0 1\n",
            " 0 1 0 1 0 1 0 1 0 1 0 1 1 0 0 1 0 1 0 1 1 0 1 0 1 0 1 0 1 0 1 1 0 0 1 0 1]\n"
          ]
        }
      ],
      "source": [
        "from sklearn.preprocessing import LabelEncoder\n",
        "le = LabelEncoder()\n",
        "df_encoded = pd.get_dummies(df.dropna(), columns=['species','island'], drop_first=True)\n",
        "\n",
        "X = df_encoded.drop(\"sex\", axis=1).to_numpy()\n",
        "y = le.fit_transform(df.dropna()['sex']) #Encode sex to binary 0,1 so it can be used later in ROC curve\n",
        "\n",
        "\n",
        "\n",
        "print(y)\n",
        "X_train, X_test, y_train, y_test = train_test_split(X, y, test_size=0.3, random_state=42) #Test size = 30%\n",
        "\n",
        "\n",
        "\n"
      ]
    },
    {
      "cell_type": "markdown",
      "metadata": {
        "id": "IWepa-QISjbZ"
      },
      "source": [
        "**4.b)** Perform LDA on the training data in order to predict `sex` using the remaining variables. What is the test error of the model obtained?"
      ]
    },
    {
      "cell_type": "code",
      "execution_count": null,
      "metadata": {
        "id": "bQquLCRDyizP",
        "colab": {
          "base_uri": "https://localhost:8080/"
        },
        "outputId": "e1f6ba67-36db-4e35-cfec-aa9ecb3bfcb2"
      },
      "outputs": [
        {
          "output_type": "stream",
          "name": "stdout",
          "text": [
            "0.08999999999999997\n"
          ]
        }
      ],
      "source": [
        "from sklearn.discriminant_analysis import LinearDiscriminantAnalysis\n",
        "from sklearn.metrics import accuracy_score\n",
        "\n",
        "lda = LinearDiscriminantAnalysis()\n",
        "lda.fit(X_train, y_train)\n",
        "\n",
        "y_pred = lda.predict(X_test)\n",
        "\n",
        "test_error = 1 - accuracy_score(y_test, y_pred)\n",
        "\n",
        "print(test_error)\n",
        "\n",
        "\n"
      ]
    },
    {
      "cell_type": "markdown",
      "metadata": {
        "id": "YWiMguFvSjWE"
      },
      "source": [
        "**4.c)** Perform QDA on the training data in order to predict `sex` using the remaining variables. What is the test error of the model obtained?"
      ]
    },
    {
      "cell_type": "code",
      "execution_count": null,
      "metadata": {
        "id": "bvzDUm5sze_l",
        "colab": {
          "base_uri": "https://localhost:8080/"
        },
        "outputId": "d6f09cc1-03e7-41ac-eb3d-df2d02e68297"
      },
      "outputs": [
        {
          "output_type": "stream",
          "name": "stdout",
          "text": [
            "0.12\n"
          ]
        }
      ],
      "source": [
        "from sklearn.discriminant_analysis import QuadraticDiscriminantAnalysis\n",
        "\n",
        "qda = QuadraticDiscriminantAnalysis()\n",
        "qda.fit(X_train, y_train)\n",
        "\n",
        "y_pred = qda.predict(X_test)\n",
        "\n",
        "test_error = 1 - accuracy_score(y_test, y_pred)\n",
        "\n",
        "print(test_error)"
      ]
    },
    {
      "cell_type": "markdown",
      "metadata": {
        "id": "DFAhEuhSSjOz"
      },
      "source": [
        "**4.d)** Perform logistic regression on the training data in order to predict `sex` using the remaining variables. What is the test error of the model obtained?"
      ]
    },
    {
      "cell_type": "code",
      "execution_count": null,
      "metadata": {
        "id": "7oVkI9QUzufY",
        "colab": {
          "base_uri": "https://localhost:8080/"
        },
        "outputId": "d6fcc0ea-6688-4275-c35a-18f6dbdf19b8"
      },
      "outputs": [
        {
          "output_type": "stream",
          "name": "stdout",
          "text": [
            "0.15000000000000002\n"
          ]
        }
      ],
      "source": [
        "from sklearn.linear_model import LogisticRegression\n",
        "\n",
        "lr = LogisticRegression()\n",
        "lr.fit(X_train, y_train)\n",
        "\n",
        "y_pred = lr.predict(X_test)\n",
        "\n",
        "test_error = 1 - accuracy_score(y_test, y_pred)\n",
        "\n",
        "print(test_error)"
      ]
    },
    {
      "cell_type": "markdown",
      "metadata": {
        "id": "dJUvW41ViqMc"
      },
      "source": [
        "**4.e)** Perform naive Bayes on the training data in order to predict `sex` using the remaining variables. What is the test error of the model obtained?"
      ]
    },
    {
      "cell_type": "code",
      "execution_count": null,
      "metadata": {
        "id": "U6pzjPGc1y_t",
        "colab": {
          "base_uri": "https://localhost:8080/"
        },
        "outputId": "62e496f2-3036-486d-a727-495ce1f2019a"
      },
      "outputs": [
        {
          "output_type": "stream",
          "name": "stdout",
          "text": [
            "0.36\n"
          ]
        }
      ],
      "source": [
        "from sklearn.naive_bayes import GaussianNB\n",
        "\n",
        "gnb = GaussianNB()\n",
        "gnb.fit(X_train, y_train)\n",
        "\n",
        "y_pred = gnb.predict(X_test)\n",
        "\n",
        "test_error = 1 - accuracy_score(y_test,y_pred)\n",
        "\n",
        "print(test_error)"
      ]
    },
    {
      "cell_type": "markdown",
      "metadata": {
        "id": "tPRBsCLviqKm"
      },
      "source": [
        "**4.f)** Perform KNN on the training data, with several values of K, in order to predict `sex`. What test errors are obtained? Which value of K seems to perform the best on this data set?"
      ]
    },
    {
      "cell_type": "code",
      "execution_count": null,
      "metadata": {
        "id": "KCXGQmN52G7W",
        "colab": {
          "base_uri": "https://localhost:8080/"
        },
        "outputId": "a88a2025-9602-46dd-8e06-3f83d30b4ed8"
      },
      "outputs": [
        {
          "output_type": "stream",
          "name": "stdout",
          "text": [
            "{'k_value:  2': 0.22, 'k_value:  3': 0.18, 'k_value:  4': 0.17, 'k_value:  5': 0.16, 'k_value:  6': 0.16, 'k_value:  7': 0.16, 'k_value:  8': 0.16, 'k_value:  9': 0.14, 'k_value:  10': 0.17, 'k_value:  11': 0.16, 'k_value:  12': 0.14}\n",
            "Lowest test_error: k_value:  9\n"
          ]
        }
      ],
      "source": [
        "from sklearn.neighbors import KNeighborsClassifier\n",
        "\n",
        "k_values = [2, 3, 4, 5, 6, 7, 8, 9, 10, 11, 12]\n",
        "test_errors = {}\n",
        "\n",
        "for k in k_values:\n",
        "  knc = KNeighborsClassifier(n_neighbors=k)\n",
        "  knc.fit(X_train, y_train)\n",
        "  y_pred = knc.predict(X_test)\n",
        "  test_errors[f\"k_value:  {k}\"] = round(1 - accuracy_score(y_test, y_pred),10)\n",
        "\n",
        "print(test_errors)\n",
        "best_k_value =min(test_errors, key=test_errors.get)\n",
        "print(f\"Lowest test_error: {best_k_value}\")"
      ]
    },
    {
      "cell_type": "markdown",
      "metadata": {
        "id": "nvhamoK0i2WZ"
      },
      "source": [
        "**4.g)** Plot the ROC curve and calculate the area under curve (AUC) for the LDA, QDA, logistic regression, naive Bayes and for the best value of K for the KNN method. Compare the results."
      ]
    },
    {
      "cell_type": "code",
      "source": [
        "from sklearn.metrics import roc_curve, auc\n",
        "model_bank = {\n",
        "    \"LDA\": lda,\n",
        "    \"QDA\": qda,\n",
        "    \"Naive Bayes\": gnb,\n",
        "    \"KNN\": KNeighborsClassifier(n_neighbors=9).fit(X_train,y_train),\n",
        "}\n",
        "for model_name, model in model_bank.items():\n",
        "\n",
        "    false_p_r, true_p_r, _ = roc_curve(y_test, model.predict_proba(X_test)[:, 1]) #Dont need the thresholds\n",
        "    roc_auc = auc(false_p_r, true_p_r)\n",
        "    plt.plot(false_p_r, true_p_r, label=f'{model_name} (AUC = {roc_auc:.2f})')\n",
        "\n",
        "plt.plot([0, 1], [0, 1], 'k--', linewidth=2, label = \"Random Choice (AUC = 0.5)\")\n",
        "plt.xlim([0.0, 1.0])\n",
        "plt.ylim([0.0, 1.05])\n",
        "plt.xlabel('False Positive Rate')\n",
        "plt.ylabel('True Positive Rate')\n",
        "plt.title('Receiver Operating Characteristic (ROC) Curve')\n",
        "plt.legend(loc=\"lower right\")\n",
        "plt.show()\n",
        "\n",
        "\n",
        "\n",
        "\n"
      ],
      "metadata": {
        "colab": {
          "base_uri": "https://localhost:8080/",
          "height": 472
        },
        "id": "ZIQpLrfrfeA4",
        "outputId": "db80a59f-45b4-4065-d646-858473d69c95"
      },
      "execution_count": null,
      "outputs": [
        {
          "output_type": "display_data",
          "data": {
            "text/plain": [
              "<Figure size 640x480 with 1 Axes>"
            ],
            "image/png": "[encoded data removed]"
          },
          "metadata": {}
        }
      ]
    },
    {
      "cell_type": "code",
      "execution_count": null,
      "metadata": {
        "id": "iNXZovNn8Wlv"
      },
      "outputs": [],
      "source": [
        "\n",
        "#All of the models perform better than random choice (the dotted line), however the LDA AND QDA performs the best with an AUC very close to 1.\n"
      ]
    },
    {
      "cell_type": "markdown",
      "metadata": {
        "id": "jEtBKnHni2GT"
      },
      "source": [
        "## Section 3 -- Bootstrap and k-Fold"
      ]
    },
    {
      "cell_type": "markdown",
      "metadata": {
        "id": "AyCSRMx2pDsm"
      },
      "source": [
        "**5.a)** Explain how k-fold cross-validation is implemented."
      ]
    },
    {
      "cell_type": "markdown",
      "metadata": {
        "id": "Bh8t6HC49HIl"
      },
      "source": [
        "We split the data into k folds, or subsets. We train and test/validate the model k times. For each iteration we pick a fold and use this as test set. The remaining folds are used as training set. The score from each iteration are combined to produce a total score for the model-training."
      ]
    },
    {
      "cell_type": "markdown",
      "metadata": {
        "id": "MbIethdmpcwr"
      },
      "source": [
        "**5.b)** What are the advantages and disadvantages of k-Fold cross-validation relative to:\n",
        "\n",
        "1. Validation set approach.\n",
        "2. Leave One Out Cross-Validation (LOOCV)."
      ]
    },
    {
      "cell_type": "markdown",
      "metadata": {
        "id": "F_U7i3m1MYWh"
      },
      "source": [
        "1)\n",
        "**Advantages:**\n",
        "Less variance because the model is trained on multiple partitions not only one. With only one random partition there could be variance in the results.\n",
        "**Disadvantages**\n",
        "Can be more computionally expensive since its trained and tested multiple times. If the order of the data is crucial to recognizing patterns k-fold will not work well. For example data that is a series of time observations where there is conditional dependencies.\n",
        "\n",
        "2)\n",
        "**Advantages**\n",
        "More computionally efficient since it involves fewer iterations than LOOCV.Especially on large data sets. LOOCV uses n iterations as each datapoint is used as a test, rather than k iterations in k-fold. K-fold is more robust and is less sensitive to noise because LOOCV estimates performance seperately for each data point.\n",
        "**Disadvantages**^\n",
        "In small datasets LOOCV may provide better performance."
      ]
    },
    {
      "cell_type": "markdown",
      "metadata": {
        "id": "jOcCUxFMpAGw"
      },
      "source": [
        "## Section 4 -- Other Questions"
      ]
    },
    {
      "cell_type": "markdown",
      "metadata": {
        "id": "jUkJU0D7pFWO"
      },
      "source": [
        "**6)** In your group's option, what are the advantages and disadvantages of using a virtual environment when programming in Python?"
      ]
    },
    {
      "cell_type": "markdown",
      "metadata": {
        "id": "4gyfaAIi9KVM"
      },
      "source": [
        "**Advantages**\n",
        "Having a venv provides more isolation and makes it easier to have tailored and ecapsulated dependencies relevant to the project. Its easier to share the work in an venv because the work is made with the correct dependecies and do not interfere with outside packages, so it can be reproduced on different machines.\n",
        "**Disadvanteges**\n",
        "It has a learning curve and can be hard to set up, also creating all the correct dependecies can be a struggle."
      ]
    },
    {
      "cell_type": "markdown",
      "metadata": {
        "id": "W8dWu7BXpFTc"
      },
      "source": [
        "**7)** In your group's opinion, in what circumstances is it better to use Jupyter Notebooks and when is it better to use Google Colab notebooks? Give some specific examples."
      ]
    },
    {
      "cell_type": "markdown",
      "metadata": {
        "id": "rtVRKNrS9vYB"
      },
      "source": [
        "If we want to code alone, and not together Jupyter Notebook is better because we have more experience with it. Also the file management on jupyter notebook is easier to manage, so we can avoid runtime files that are deleted after runtime. Jupyter Notebook can be used in other IDES for example VSCODE. When you have no access to internet Jupyter Notebook is the clear winner as well. Google Colab is great when we are pair programming. Google Colab has most dependecies already installed it seems, and is running on Googles GPU/CPUS which is a advantage to us if our computer is bad, or if the work we are doing is very computaniolly hard."
      ]
    },
    {
      "cell_type": "markdown",
      "metadata": {
        "id": "Sl0krfG6pFH6"
      },
      "source": [
        "**8)** Enter your GitHub repository webpage."
      ]
    },
    {
      "cell_type": "code",
      "execution_count": null,
      "metadata": {
        "id": "f2LRRDFryeNz"
      },
      "outputs": [],
      "source": [
        "#https://github.com/oleaskeland/AdvancedAutomation.git\n"
      ]
    }
  ],
  "metadata": {
    "colab": {
      "provenance": [],
      "include_colab_link": true
    },
    "kernelspec": {
      "display_name": "Python 3 (ipykernel)",
      "language": "python",
      "name": "python3"
    },
    "language_info": {
      "codemirror_mode": {
        "name": "ipython",
        "version": 3
      },
      "file_extension": ".py",
      "mimetype": "text/x-python",
      "name": "python",
      "nbconvert_exporter": "python",
      "pygments_lexer": "ipython3",
      "version": "3.8.18"
    }
  },
  "nbformat": 4,
  "nbformat_minor": 0
}